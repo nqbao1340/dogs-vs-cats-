{
 "cells": [
  {
   "cell_type": "code",
   "execution_count": 2,
   "metadata": {},
   "outputs": [
    {
     "name": "stdout",
     "output_type": "stream",
     "text": [
      "Model: \"vgg16\"\n",
      "_________________________________________________________________\n",
      "Layer (type)                 Output Shape              Param #   \n",
      "=================================================================\n",
      "input_2 (InputLayer)         [(None, 150, 150, 3)]     0         \n",
      "_________________________________________________________________\n",
      "block1_conv1 (Conv2D)        (None, 150, 150, 64)      1792      \n",
      "_________________________________________________________________\n",
      "block1_conv2 (Conv2D)        (None, 150, 150, 64)      36928     \n",
      "_________________________________________________________________\n",
      "block1_pool (MaxPooling2D)   (None, 75, 75, 64)        0         \n",
      "_________________________________________________________________\n",
      "block2_conv1 (Conv2D)        (None, 75, 75, 128)       73856     \n",
      "_________________________________________________________________\n",
      "block2_conv2 (Conv2D)        (None, 75, 75, 128)       147584    \n",
      "_________________________________________________________________\n",
      "block2_pool (MaxPooling2D)   (None, 37, 37, 128)       0         \n",
      "_________________________________________________________________\n",
      "block3_conv1 (Conv2D)        (None, 37, 37, 256)       295168    \n",
      "_________________________________________________________________\n",
      "block3_conv2 (Conv2D)        (None, 37, 37, 256)       590080    \n",
      "_________________________________________________________________\n",
      "block3_conv3 (Conv2D)        (None, 37, 37, 256)       590080    \n",
      "_________________________________________________________________\n",
      "block3_pool (MaxPooling2D)   (None, 18, 18, 256)       0         \n",
      "_________________________________________________________________\n",
      "block4_conv1 (Conv2D)        (None, 18, 18, 512)       1180160   \n",
      "_________________________________________________________________\n",
      "block4_conv2 (Conv2D)        (None, 18, 18, 512)       2359808   \n",
      "_________________________________________________________________\n",
      "block4_conv3 (Conv2D)        (None, 18, 18, 512)       2359808   \n",
      "_________________________________________________________________\n",
      "block4_pool (MaxPooling2D)   (None, 9, 9, 512)         0         \n",
      "_________________________________________________________________\n",
      "block5_conv1 (Conv2D)        (None, 9, 9, 512)         2359808   \n",
      "_________________________________________________________________\n",
      "block5_conv2 (Conv2D)        (None, 9, 9, 512)         2359808   \n",
      "_________________________________________________________________\n",
      "block5_conv3 (Conv2D)        (None, 9, 9, 512)         2359808   \n",
      "_________________________________________________________________\n",
      "block5_pool (MaxPooling2D)   (None, 4, 4, 512)         0         \n",
      "=================================================================\n",
      "Total params: 14,714,688\n",
      "Trainable params: 14,714,688\n",
      "Non-trainable params: 0\n",
      "_________________________________________________________________\n"
     ]
    }
   ],
   "source": [
    "from keras.applications import VGG16\n",
    "conv_base = VGG16(weights='imagenet', include_top=False, input_shape=(150, 150, 3))\n",
    "conv_base.summary()"
   ]
  },
  {
   "cell_type": "code",
   "execution_count": 13,
   "metadata": {},
   "outputs": [
    {
     "name": "stdout",
     "output_type": "stream",
     "text": [
      "Found 2000 images belonging to 2 classes.\n",
      "Found 1000 images belonging to 2 classes.\n",
      "Found 1000 images belonging to 2 classes.\n",
      "Epoch 1/30\n",
      "100/100 [==============================] - 2s 15ms/step - loss: 0.6739 - acc: 0.6016 - val_loss: 0.4522 - val_acc: 0.8020\n",
      "Epoch 2/30\n",
      "100/100 [==============================] - 1s 13ms/step - loss: 0.4531 - acc: 0.7872 - val_loss: 0.3607 - val_acc: 0.8630\n",
      "Epoch 3/30\n",
      "100/100 [==============================] - 1s 13ms/step - loss: 0.3629 - acc: 0.8500 - val_loss: 0.3226 - val_acc: 0.8760\n",
      "Epoch 4/30\n",
      "100/100 [==============================] - 1s 14ms/step - loss: 0.3284 - acc: 0.8514 - val_loss: 0.3033 - val_acc: 0.8870\n",
      "Epoch 5/30\n",
      "100/100 [==============================] - 1s 13ms/step - loss: 0.2801 - acc: 0.8687 - val_loss: 0.2980 - val_acc: 0.8910\n",
      "Epoch 6/30\n",
      "100/100 [==============================] - 1s 13ms/step - loss: 0.2577 - acc: 0.9045 - val_loss: 0.2763 - val_acc: 0.8920\n",
      "Epoch 7/30\n",
      "100/100 [==============================] - 1s 13ms/step - loss: 0.2482 - acc: 0.8991 - val_loss: 0.2701 - val_acc: 0.8930\n",
      "Epoch 8/30\n",
      "100/100 [==============================] - 1s 13ms/step - loss: 0.2339 - acc: 0.9016 - val_loss: 0.2615 - val_acc: 0.8970\n",
      "Epoch 9/30\n",
      "100/100 [==============================] - 1s 13ms/step - loss: 0.2177 - acc: 0.9247 - val_loss: 0.2568 - val_acc: 0.9000\n",
      "Epoch 10/30\n",
      "100/100 [==============================] - 1s 14ms/step - loss: 0.1965 - acc: 0.9309 - val_loss: 0.2520 - val_acc: 0.9020s - loss: 0.1949 - acc\n",
      "Epoch 11/30\n",
      "100/100 [==============================] - 1s 13ms/step - loss: 0.1836 - acc: 0.9365 - val_loss: 0.2495 - val_acc: 0.9040\n",
      "Epoch 12/30\n",
      "100/100 [==============================] - 1s 14ms/step - loss: 0.1924 - acc: 0.9232 - val_loss: 0.2484 - val_acc: 0.9030\n",
      "Epoch 13/30\n",
      "100/100 [==============================] - 1s 13ms/step - loss: 0.1764 - acc: 0.9399 - val_loss: 0.2556 - val_acc: 0.8970\n",
      "Epoch 14/30\n",
      "100/100 [==============================] - 1s 13ms/step - loss: 0.1742 - acc: 0.9378 - val_loss: 0.2435 - val_acc: 0.9040\n",
      "Epoch 15/30\n",
      "100/100 [==============================] - 1s 13ms/step - loss: 0.1627 - acc: 0.9337 - val_loss: 0.2421 - val_acc: 0.9040\n",
      "Epoch 16/30\n",
      "100/100 [==============================] - 1s 13ms/step - loss: 0.1514 - acc: 0.9472 - val_loss: 0.2420 - val_acc: 0.9060\n",
      "Epoch 17/30\n",
      "100/100 [==============================] - 1s 13ms/step - loss: 0.1481 - acc: 0.9445 - val_loss: 0.2427 - val_acc: 0.9000\n",
      "Epoch 18/30\n",
      "100/100 [==============================] - 1s 13ms/step - loss: 0.1344 - acc: 0.9570 - val_loss: 0.2515 - val_acc: 0.8960\n",
      "Epoch 19/30\n",
      "100/100 [==============================] - 1s 13ms/step - loss: 0.1361 - acc: 0.9548 - val_loss: 0.2409 - val_acc: 0.9070\n",
      "Epoch 20/30\n",
      "100/100 [==============================] - 1s 13ms/step - loss: 0.1292 - acc: 0.9606 - val_loss: 0.2410 - val_acc: 0.9030\n",
      "Epoch 21/30\n",
      "100/100 [==============================] - 1s 13ms/step - loss: 0.1220 - acc: 0.9600 - val_loss: 0.2433 - val_acc: 0.9030\n",
      "Epoch 22/30\n",
      "100/100 [==============================] - 1s 13ms/step - loss: 0.1116 - acc: 0.9709 - val_loss: 0.2387 - val_acc: 0.9060\n",
      "Epoch 23/30\n",
      "100/100 [==============================] - 1s 13ms/step - loss: 0.1139 - acc: 0.9656 - val_loss: 0.2676 - val_acc: 0.8900\n",
      "Epoch 24/30\n",
      "100/100 [==============================] - 1s 13ms/step - loss: 0.1138 - acc: 0.9622 - val_loss: 0.2413 - val_acc: 0.9030\n",
      "Epoch 25/30\n",
      "100/100 [==============================] - 1s 13ms/step - loss: 0.0982 - acc: 0.9721 - val_loss: 0.2417 - val_acc: 0.9030\n",
      "Epoch 26/30\n",
      "100/100 [==============================] - 1s 13ms/step - loss: 0.0950 - acc: 0.9680 - val_loss: 0.2403 - val_acc: 0.9030\n",
      "Epoch 27/30\n",
      "100/100 [==============================] - 1s 13ms/step - loss: 0.1005 - acc: 0.9656 - val_loss: 0.2449 - val_acc: 0.8990\n",
      "Epoch 28/30\n",
      "100/100 [==============================] - 1s 13ms/step - loss: 0.1077 - acc: 0.9666 - val_loss: 0.2523 - val_acc: 0.8990\n",
      "Epoch 29/30\n",
      "100/100 [==============================] - 1s 13ms/step - loss: 0.0904 - acc: 0.9686 - val_loss: 0.2419 - val_acc: 0.9020\n",
      "Epoch 30/30\n",
      "100/100 [==============================] - 1s 13ms/step - loss: 0.0884 - acc: 0.9746 - val_loss: 0.2496 - val_acc: 0.8980\n"
     ]
    }
   ],
   "source": [
    "import os\n",
    "import numpy as np\n",
    "from keras.preprocessing.image import ImageDataGenerator\n",
    "\n",
    "base_dir = 'C:/Users/nqbao/Desktop/Bao/WSU_Data Sc/Deep learning project/Materials/handson-ml/dogs-vs-cats/smaller'\n",
    "train_dir = os.path.join(base_dir, 'train')\n",
    "validation_dir = os.path.join(base_dir, 'validation')\n",
    "test_dir = os.path.join(base_dir, 'test')\n",
    "\n",
    "datagen = ImageDataGenerator(rescale=1./255)\n",
    "batch_size = 20\n",
    "def extract_features(directory, sample_count):\n",
    "    features = np.zeros(shape=(sample_count, 4, 4, 512))\n",
    "    labels = np.zeros(shape=(sample_count))\n",
    "    generator = datagen.flow_from_directory(directory, target_size=(150, 150), batch_size=batch_size, class_mode='binary')\n",
    "    i = 0\n",
    "    for inputs_batch, labels_batch in generator:\n",
    "        features_batch = conv_base.predict(inputs_batch)\n",
    "        features[i * batch_size : (i + 1) * batch_size] = features_batch\n",
    "        labels[i * batch_size : (i + 1) * batch_size] = labels_batch\n",
    "        i += 1\n",
    "        if i * batch_size >= sample_count:\n",
    "            break\n",
    "    return features, labels\n",
    "\n",
    "train_features, train_labels = extract_features(train_dir, 2000)\n",
    "validation_features, validation_labels = extract_features(validation_dir, 1000)\n",
    "test_features, test_labels = extract_features(test_dir, 1000)\n",
    "\n",
    "train_features = np.reshape(train_features, (2000, 4 * 4 * 512))\n",
    "validation_features = np.reshape(validation_features, (1000, 4 * 4 * 512))\n",
    "test_features = np.reshape(test_features, (1000, 4 * 4 * 512))\n",
    "\n",
    "from keras import models\n",
    "from keras import layers\n",
    "from keras import optimizers\n",
    "model = models.Sequential()\n",
    "model.add(layers.Dense(256, activation='relu', input_dim=4 * 4 * 512))\n",
    "model.add(layers.Dropout(0.5))\n",
    "model.add(layers.Dense(1, activation='sigmoid'))\n",
    "model.compile(optimizer=optimizers.RMSprop(lr=2e-5), loss='binary_crossentropy', metrics=['acc'])\n",
    "history = model.fit(train_features, train_labels, epochs=30, batch_size=20, \n",
    "                    validation_data=(validation_features, validation_labels))\n"
   ]
  },
  {
   "cell_type": "code",
   "execution_count": 14,
   "metadata": {},
   "outputs": [
    {
     "data": {
      "image/png": "[encoded data removed]",
      "text/plain": [
       "<Figure size 432x288 with 1 Axes>"
      ]
     },
     "metadata": {
      "needs_background": "light"
     },
     "output_type": "display_data"
    },
    {
     "data": {
      "image/png": "[encoded data removed]",
      "text/plain": [
       "<Figure size 432x288 with 1 Axes>"
      ]
     },
     "metadata": {
      "needs_background": "light"
     },
     "output_type": "display_data"
    }
   ],
   "source": [
    "# Plotting accuracy rate \n",
    "import matplotlib.pyplot as plt\n",
    "acc = history.history['acc']\n",
    "val_acc = history.history['val_acc']\n",
    "loss = history.history['loss']\n",
    "val_loss = history.history['val_loss']\n",
    "epochs = range(1, len(acc) + 1)\n",
    "plt.plot(epochs, acc, 'bo', label='Training acc')\n",
    "plt.plot(epochs, val_acc, 'b', label='Validation acc')\n",
    "plt.title('Training and validation accuracy')\n",
    "plt.legend()\n",
    "plt.figure()\n",
    "plt.plot(epochs, loss, 'bo', label='Training loss')\n",
    "plt.plot(epochs, val_loss, 'b', label='Validation loss')\n",
    "plt.title('Training and validation loss')\n",
    "plt.legend()\n",
    "plt.show()"
   ]
  },
  {
   "cell_type": "code",
   "execution_count": null,
   "metadata": {},
   "outputs": [],
   "source": []
  }
 ],
 "metadata": {
  "kernelspec": {
   "display_name": "Python 3",
   "language": "python",
   "name": "python3"
  },
  "language_info": {
   "codemirror_mode": {
    "name": "ipython",
    "version": 3
   },
   "file_extension": ".py",
   "mimetype": "text/x-python",
   "name": "python",
   "nbconvert_exporter": "python",
   "pygments_lexer": "ipython3",
   "version": "3.8.5"
  }
 },
 "nbformat": 4,
 "nbformat_minor": 4
}
